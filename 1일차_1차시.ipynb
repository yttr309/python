{
  "nbformat": 4,
  "nbformat_minor": 0,
  "metadata": {
    "colab": {
      "name": "1일차_1차시.ipynb",
      "provenance": [],
      "authorship_tag": "ABX9TyNlVyEh7kadl4fJDPYvMKFj",
      "include_colab_link": true
    },
    "kernelspec": {
      "name": "python3",
      "display_name": "Python 3"
    }
  },
  "cells": [
    {
      "cell_type": "markdown",
      "metadata": {
        "id": "view-in-github",
        "colab_type": "text"
      },
      "source": [
        "<a href=\"https://colab.research.google.com/github/yttr309/python/blob/master/1%EC%9D%BC%EC%B0%A8_1%EC%B0%A8%EC%8B%9C.ipynb\" target=\"_parent\"><img src=\"https://colab.research.google.com/assets/colab-badge.svg\" alt=\"Open In Colab\"/></a>"
      ]
    },
    {
      "cell_type": "markdown",
      "metadata": {
        "id": "HtTofhwE5aw_",
        "colab_type": "text"
      },
      "source": [
        "1차시 어쩌구저쩌구\n",
        "\n",
        "\n"
      ]
    },
    {
      "cell_type": "code",
      "metadata": {
        "id": "Y91MNRxw2oQt",
        "colab_type": "code",
        "outputId": "3e77b5c4-6b86-41db-9b0f-067d0156d1a2",
        "colab": {
          "base_uri": "https://localhost:8080/",
          "height": 35
        }
      },
      "source": [
        "print('인천정보산업고')"
      ],
      "execution_count": 0,
      "outputs": [
        {
          "output_type": "stream",
          "text": [
            "인천정보산업고\n"
          ],
          "name": "stdout"
        }
      ]
    },
    {
      "cell_type": "markdown",
      "metadata": {
        "id": "FpkQy4Ji4cjg",
        "colab_type": "text"
      },
      "source": [
        "사칙연산\n",
        "\n",
        "a=3, b=2\n",
        "a+b=5\n"
      ]
    },
    {
      "cell_type": "code",
      "metadata": {
        "id": "Y4zABTLK4t58",
        "colab_type": "code",
        "outputId": "f1a6faf3-f835-429d-af00-3bf45f436589",
        "colab": {
          "base_uri": "https://localhost:8080/",
          "height": 143
        }
      },
      "source": [
        "a=3\n",
        "b=2\n",
        "print('a + b', a+b)\n",
        "print('a - b', a-b)\n",
        "print('a * b', a*b)\n",
        "print('a ** b', a**b)\n",
        "print('a / b', a/b)\n",
        "print('a // b', a//b)\n",
        "print('a % b', a%b)"
      ],
      "execution_count": 0,
      "outputs": [
        {
          "output_type": "stream",
          "text": [
            "a + b 5\n",
            "a - b 1\n",
            "a * b 6\n",
            "a ** b 9\n",
            "a / b 1.5\n",
            "a // b 1\n",
            "a % b 1\n"
          ],
          "name": "stdout"
        }
      ]
    }
  ]
}